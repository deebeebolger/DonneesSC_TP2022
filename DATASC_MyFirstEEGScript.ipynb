{
 "cells": [
  {
   "cell_type": "markdown",
   "metadata": {},
   "source": []
  },
  {
   "cell_type": "markdown",
   "metadata": {},
   "source": [
    "## FIRST STEPS IN EXPLORING EEG DATA\n",
    "\n",
    "Now that we have visualized and explore EEG data using Anywave, we will try to carry out similar work using Python and Python-MNE, a tool used by many researchers in EEG, MEG and fMRI.\n",
    "Make sure that the folders containing your data are in the same directory as your Jupyter notebooks and Python scripts. This will make it easier to load in data.\n"
   ]
  },
  {
   "cell_type": "code",
   "execution_count": 68,
   "metadata": {
    "pycharm": {
     "name": "#%%\n"
    }
   },
   "outputs": [],
   "source": [
    "%matplotlib widget\n",
    "import os\n",
    "import matplotlib.pyplot as plt\n",
    "import numpy as np\n",
    "import seaborn as sns\n",
    "import pyedflib\n",
    "import mne\n",
    "import ipympl\n",
    "import pandas as pd\n",
    "\n",
    "sns.set(rc={'figure.figsize':(8, 6)},\n",
    "        font_scale=1.5)\n",
    "sns.set_style('whitegrid')\n",
    "\n",
    "qt_api = os.environ.get('QT_API')\n"
   ]
  },
  {
   "cell_type": "code",
   "execution_count": 69,
   "metadata": {
    "pycharm": {
     "name": "#%%\n"
    }
   },
   "outputs": [
    {
     "ename": "OSError",
     "evalue": "./AuditoryOddball_TBI/sub-004/session1/sub-004_ses-01_task-ThreeStimAuditoryOddball_eeg.edf: file has already been opened",
     "output_type": "error",
     "traceback": [
      "\u001B[0;31m---------------------------------------------------------------------------\u001B[0m",
      "\u001B[0;31mOSError\u001B[0m                                   Traceback (most recent call last)",
      "Input \u001B[0;32mIn [69]\u001B[0m, in \u001B[0;36m<cell line: 2>\u001B[0;34m()\u001B[0m\n\u001B[1;32m      1\u001B[0m fname \u001B[38;5;241m=\u001B[39m \u001B[38;5;124m'\u001B[39m\u001B[38;5;124m./AuditoryOddball_TBI/sub-004/session1/sub-004_ses-01_task-ThreeStimAuditoryOddball_eeg.edf\u001B[39m\u001B[38;5;124m'\u001B[39m\n\u001B[0;32m----> 2\u001B[0m rawmed1 \u001B[38;5;241m=\u001B[39m \u001B[43mpyedflib\u001B[49m\u001B[38;5;241;43m.\u001B[39;49m\u001B[43mEdfReader\u001B[49m\u001B[43m(\u001B[49m\u001B[43mfname\u001B[49m\u001B[43m)\u001B[49m\n\u001B[1;32m      3\u001B[0m n \u001B[38;5;241m=\u001B[39m rawmed1\u001B[38;5;241m.\u001B[39msignals_in_file\n\u001B[1;32m      4\u001B[0m signal_labels \u001B[38;5;241m=\u001B[39m rawmed1\u001B[38;5;241m.\u001B[39mgetSignalLabels()\n",
      "File \u001B[0;32mpyedflib/_extensions/_pyedflib.pyx:146\u001B[0m, in \u001B[0;36mpyedflib._extensions._pyedflib.CyEdfReader.__init__\u001B[0;34m()\u001B[0m\n",
      "File \u001B[0;32mpyedflib/_extensions/_pyedflib.pyx:209\u001B[0m, in \u001B[0;36mpyedflib._extensions._pyedflib.CyEdfReader.open\u001B[0;34m()\u001B[0m\n",
      "File \u001B[0;32mpyedflib/_extensions/_pyedflib.pyx:181\u001B[0m, in \u001B[0;36mpyedflib._extensions._pyedflib.CyEdfReader.check_open_ok\u001B[0;34m()\u001B[0m\n",
      "\u001B[0;31mOSError\u001B[0m: ./AuditoryOddball_TBI/sub-004/session1/sub-004_ses-01_task-ThreeStimAuditoryOddball_eeg.edf: file has already been opened"
     ]
    }
   ],
   "source": [
    "fname = './AuditoryOddball_TBI/sub-004/session1/sub-004_ses-01_task-ThreeStimAuditoryOddball_eeg.edf'\n",
    "rawmed1 = pyedflib.EdfReader(fname)\n",
    "n = rawmed1.signals_in_file\n",
    "signal_labels = rawmed1.getSignalLabels()\n",
    "sigbufs = np.zeros((n, rawmed1.getNSamples()[0]))\n",
    "for i in np.arange(n):\n",
    "        sigbufs[i, :] = rawmed1.readSignal(i)"
   ]
  },
  {
   "cell_type": "code",
   "execution_count": 71,
   "metadata": {
    "pycharm": {
     "name": "#%%\n"
    }
   },
   "outputs": [
    {
     "data": {
      "text/plain": "Text(0.5, 0, 'time (seconds)')"
     },
     "execution_count": 71,
     "metadata": {},
     "output_type": "execute_result"
    },
    {
     "data": {
      "text/plain": "<Figure size 432x288 with 1 Axes>",
      "image/png": "[encoded data removed]"
     },
     "metadata": {
      "needs_background": "light"
     },
     "output_type": "display_data"
    }
   ],
   "source": [
    "## -----------------------We know the sampling rate of the data, so can construct the time vector.----------------------\n",
    "srate = 500\n",
    "datasize = sigbufs.shape\n",
    "\n",
    "i = range(0, datasize[1])\n",
    "time = [item * (1/srate) for item in i]   # Create a time vector\n",
    "\n",
    "%matplotlib inline\n",
    "## Now we can plot the data of a single electrode over time.\n",
    "## We want to plot the Cz electrode...\n",
    "chanidx = signal_labels.index('Cz')      # Find the index of the Cz electrode.\n",
    "plt.plot(time,sigbufs[chanidx, :])       # Plot the Cz signal\n",
    "plt.xlabel('time (seconds)')\n"
   ]
  },
  {
   "cell_type": "code",
   "execution_count": null,
   "metadata": {
    "pycharm": {
     "name": "#%%\n"
    }
   },
   "outputs": [],
   "source": [
    "### But we may want to visualize individual channel data for a pre-defined time interval.\n",
    "\"\"\"Need to consctruct the new time vector\"\"\"\n",
    "lims_sec    = np.array([60, 70])               # We will define the limits of the time interval, from 60seconds to 70seconds\n",
    "lim1, lim2  = (lims_sec * srate).astype(int)   # Find the indices of the start and end of chosen time interval\n",
    "chan2plot   = 'Pz'                             # The index of the channel that you want to plot\n",
    "chanindx2   = signal_labels.index(chan2plot)\n",
    "RawIn_sel   = sigbufs[chanindx2, lim1:lim2]     # Extract the raw data of interest\n",
    "\n",
    "# Now plot the time interval of data.\n",
    "t = time[lim1:lim2]\n",
    "plt.plot(t,RawIn_sel)\n",
    "plt.show()"
   ]
  },
  {
   "cell_type": "code",
   "execution_count": null,
   "metadata": {
    "pycharm": {
     "name": "#%%\n"
    }
   },
   "outputs": [],
   "source": [
    "\n",
    "chans_sel    = ['C3', 'Cz', 'C4']                                     # The index of the channel that you want to plot\n",
    "chanidx3 = [signal_labels.index(item2) for item2 in chans_sel ]\n",
    "\n",
    "RawIn_sel2 = sigbufs[chanidx3, lim1:lim2]        # Etract the data from the\n",
    "yoffset    = np.array([.001, 0, .001])              # Define a y-offset to seperate the channels\n",
    "y          = RawIn_sel2.T + yoffset                         # Extract the magnitude data for the selected channel\n",
    "\n",
    "pline = plt.plot(t, y)\n",
    "plt.xlabel('Time (seconds)')\n",
    "plt.ylabel('Magnitude')\n",
    "plt.legend(pline, chans_sel)\n",
    "plt.show()"
   ]
  },
  {
   "cell_type": "markdown",
   "metadata": {},
   "source": [
    "## Convert the continuous data into an MNE Raw object.\n",
    "![](figures/mne.png)\n",
    "\n",
    "The Python-MNE package is very employed is the analysis of EEG and MEG data.\n",
    "MNE-Python provides many functions to visualize and explore EEG data.\n",
    "\n",
    "We create a what is called in MNE-Python a **Raw object** using the data that we loaded above.\n",
    "To create this Raw object we will need the following information:\n",
    "- the sampling rate (in Hertz) of the data\n",
    "- channel labels\n",
    "- channel types (EEG, EOG, MEG etc.)\n",
    "\n",
    "Of course, to create this raw object and to begin using the MNE functions, we need to have imported mne package.\n",
    "You will notice above that we do not include all the channels when creating the MNE Raw object, we exclude the external channels, EXG1 and EG2\n"
   ]
  },
  {
   "cell_type": "code",
   "execution_count": null,
   "metadata": {
    "pycharm": {
     "name": "#%%\n"
    }
   },
   "outputs": [],
   "source": [
    "\n",
    "## ---------------- It is much easier to manipulate and visualize the data using the MNE Package -----------------------.\n",
    "\"\"\"\n",
    "    So we will create a simple MNE raw object.\n",
    "    Initialize an info structure with the following information:\n",
    "    - sampling rate (srate)\n",
    "    - channel labels (signal_labels)\n",
    "    - channel types (eeg) - we need to create this list\n",
    "\"\"\"\n",
    "# Create the channel type list. All channels are type EEG.\n",
    "\n",
    "siglabs   = signal_labels  # Only include channels from 0 to 66 (exclude external channels except EXG1 and EG2)\n",
    "chantypes = ['eeg'] * len(siglabs)\n",
    "sigIn     = sigbufs[0:len(siglabs), :]\n",
    "info = mne.create_info(ch_names=siglabs, ch_types=chantypes, sfreq=srate)\n",
    "RawIn = mne.io.RawArray(sigIn, info)"
   ]
  },
  {
   "cell_type": "code",
   "execution_count": null,
   "metadata": {
    "pycharm": {
     "name": "#%%\n"
    }
   },
   "outputs": [],
   "source": [
    "\n",
    "RawIn.drop_channels('Status')\n",
    "RawIn.set_channel_types({'VEOG': 'eog'})"
   ]
  },
  {
   "cell_type": "markdown",
   "metadata": {},
   "source": [
    "### The **Raw object**\n",
    "If you take a look inside the **RawIn** object, you will see that it has different *attributes* such as:\n",
    "- n_times : number of time samples\n",
    "- ch_names : the names of the channels\n",
    "- times : the time vector\n",
    "- an *info* dictionnary with acquisition details such as sampling rate, labels of channels marked as *bad* etc.\n",
    "\n",
    "Below we will access this information and print it to screen."
   ]
  },
  {
   "cell_type": "code",
   "execution_count": null,
   "metadata": {
    "pycharm": {
     "name": "#%%\n"
    }
   },
   "outputs": [],
   "source": [
    "## ---------------------------------------------Get some basic information from the data--------------------------------\n",
    "T = RawIn.times\n",
    "Allchans =  RawIn.info['ch_names']\n",
    "badchans =  RawIn.info['bads']\n",
    "sampfreq =  RawIn.info['sfreq']\n",
    "\n",
    "print('The sampling frequency is: []', sampfreq)\n",
    "print('The first 5 channel names are: {}'.format(', '.join(Allchans[:5])))     # Titles of the first 5 electrodes\n"
   ]
  },
  {
   "cell_type": "markdown",
   "metadata": {},
   "source": [
    "### Plotting All EEG Channels\n",
    "\n",
    "Now we will plot the raw signals of all channels stacked on above the other over time.\n",
    "In the following two cells, we apply two different ways of plotting the EEG signals.\n",
    "\n",
    "Note that **remove_dc** is set to **True** or \"On\". What do you think this means?\n",
    "\n",
    "What might we expect if we set **remove_dc** to **False**?"
   ]
  },
  {
   "cell_type": "code",
   "execution_count": null,
   "metadata": {
    "pycharm": {
     "name": "#%%\n"
    }
   },
   "outputs": [],
   "source": [
    "##### Visualise all electrode activity #####\n",
    "\n",
    "%matplotlib widget\n",
    "mne.viz.plot_raw(RawIn, scalings='auto', remove_dc=True)"
   ]
  },
  {
   "cell_type": "code",
   "execution_count": null,
   "metadata": {
    "pycharm": {
     "name": "#%%\n"
    }
   },
   "outputs": [],
   "source": [
    "\n",
    "## We can also plot the data in the RawIn object by using RawIn's '\"plot\" method\n",
    "RawIn.plot(duration= 20, start = 60, scalings='auto', remove_dc=True, )"
   ]
  },
  {
   "cell_type": "markdown",
   "metadata": {},
   "source": [
    "#### WHAT IF WE WANT TO PLOT ONLY A SPECIFIC TIME INTERVAL?\n",
    "\n",
    "In the cell below, you have to plot a single channel, Cz, over the for the 60-70second time window.\n",
    "You first need to construct the time vector.\n",
    "\n",
    "\n",
    "Some help:\n",
    "- You will need to know the sampling frequency (Hz or samples per second) of the data.\n",
    "- The time vector and data vector, corresponding to data from Cz electrode, need to have the same length.\n",
    "- Need to find the index of Cz electrode."
   ]
  },
  {
   "cell_type": "code",
   "execution_count": null,
   "metadata": {},
   "outputs": [],
   "source": [
    "### But we may want to visualize individual channel data for a pre-defined time interval.\n",
    "\"\"\"Need to consctruct the new time vector\"\"\"\n",
    "lims_sec    = np.array([60, 70])\n",
    "lim1, lim2  = (lims_sec * sampfreq).astype(int)   # Find the indices of the start and end of chosen time interval\n",
    "chan_idx    = Allchans.index('Cz')                # The index of the channel that you want to plot\n",
    "RawIn_sel = RawIn[chan_idx, lim1:lim2]     # Extract the raw data of interest\n",
    "\n",
    "%matplotlib inline\n",
    "t = RawIn_sel[1]                             # Extract the time vector\n",
    "y = RawIn_sel[0].T                           # Extract the magnitude data for the selected channel\n",
    "plt.plot(t, y)\n",
    "plt.xlabel('Time (seconds)')\n",
    "plt.ylabel('Magnitude')\n",
    "plt.show()"
   ]
  },
  {
   "cell_type": "markdown",
   "metadata": {},
   "source": [
    "#### USE OF RAW METHODS TO GET THE INDICES OF TIME POINTS (IN SECONDS)\n",
    "The Raw method **time_as_index()** can be used to convert a time, in seconds, into an integer index.\n",
    "The times can be presented as a list or an array of times and, in that case, will return an array of indices.\n",
    "\n",
    "In addition, we can also index our Raw object, RawIn, using the channel names rather than the indices.\n",
    "Here we select 3 central channels to plot in a stacked plot.\n",
    "So as to differentiate the signals of each channel, we define an offset for the y axis."
   ]
  },
  {
   "cell_type": "code",
   "execution_count": null,
   "metadata": {
    "pycharm": {
     "name": "#%%\n"
    }
   },
   "outputs": [],
   "source": [
    "## Use of the Raw method \"time_as_index\" to find the index\n",
    "Lims = RawIn.time_as_index(lims_sec)\n",
    "list_idx = Lims.tolist()\n",
    "print('The start and end indices of the 60 to 70sec time interval is : ', list_idx)\n",
    "\n",
    "chan_sel    = ['C3', 'Cz', 'C4']                                     # The index of the channel that you want to plot\n",
    "RawIn_sel2 = RawIn[chan_sel, Lims[0]:Lims[1]]\n",
    "yoffset = np.array([.001, 0, .001])\n",
    "t = RawIn_sel2[1]                             # Extract the time vector\n",
    "y = RawIn_sel2[0].T + yoffset                         # Extract the magnitude data for the selected channel\n",
    "pline = plt.plot(t, y)\n",
    "plt.xlabel('Time (seconds)')\n",
    "plt.ylabel('Magnitude')\n",
    "plt.legend(pline, chan_sel)"
   ]
  },
  {
   "cell_type": "markdown",
   "metadata": {},
   "source": [
    "### ---------------------------------- PLOT TOPOGRAPHIES FOR DEFINED TIME INTERVAL -----------------------------------\n",
    "\n",
    "In addition to looking at the signal as a function of time.\n",
    "We can look at the spatial distribution of activity across the head (topography) for a given time interval.\n",
    "We could do this to highlight activity as a specific time or verify if certain activity corresponds to an artifact.\n",
    "The plot a single topography, we need to define a vector of the mean activity over a defined time interval.\n",
    "\n",
    "- Try to find a time interval containing eye-blinks or ECG or alpha oscillation.\n",
    "- Note the time interval or intervals.\n",
    "- Plot the topography of the activity over this time interval.\n",
    "\n",
    "The function to plot topography is given below.\n",
    "You can use the EEG artifact, characteristics CheatSheet to help you detect these artifacts.\n",
    "Note: Before we can visualise the topography, we need to define the electrode layout or **montage** that corresponds\n",
    "to the current data.\n",
    "Here we use the standard 10-20 montage.\n",
    "\n",
    "<img src=\"figures/10-20_1.jpg\" width=520 height=550 /><br />"
   ]
  },
  {
   "cell_type": "code",
   "execution_count": null,
   "metadata": {
    "pycharm": {
     "name": "#%%\n"
    }
   },
   "outputs": [],
   "source": [
    "\n",
    "montage = mne.channels.make_standard_montage('standard_1020')               # Assigning the standard 10-20 montage\n",
    "mne.viz.plot_montage(mne.channels.make_standard_montage('standard_1020'))   # Visualize the montage\n",
    "RawIn.set_montage(montage)     # Apply 10-20 montage to the current raw object."
   ]
  },
  {
   "cell_type": "markdown",
   "metadata": {
    "pycharm": {
     "name": "#%% md\n"
    }
   },
   "source": [
    "### THE DC OFFSET\n",
    "\n",
    "We will start by trying to remove the DC offset, by subtracting the mean activity from the activity of one channel.\n",
    "Then we will plot the result.\n",
    "So...\n",
    "- Let's calculate the mean of a few channels.\n",
    "- What do you notice about the means? How do we know that there is a DC offset?\n",
    "\n",
    "Note also the use of the *copy()** method. We use this to make a copy of the original **RawIn** object.\n",
    "When we apply a method such as, *.pick_channels*, to a raw object, we change that object. Therefore, the copy() method is very useful."
   ]
  },
  {
   "cell_type": "code",
   "execution_count": null,
   "metadata": {
    "pycharm": {
     "name": "#%%\n"
    }
   },
   "outputs": [],
   "source": [
    "## To test the effect of the DC offset, we will find the mean of a few electrodes.\n",
    "\"\"\"\n",
    "    Find the mean of the data from several channels.\n",
    "    What can we say about the means?\n",
    "\"\"\"\n",
    "RawIn_temp = RawIn.copy()\n",
    "RawIn_temp.pick_channels(['F3', 'Fz', 'F4'])\n",
    "dataIn    = RawIn_temp.get_data()\n",
    "data_mean = np.mean(dataIn, 1)\n",
    "Dmean = data_mean.tolist()\n",
    "print('The mean for each  electrode: {} '.format(Dmean))"
   ]
  },
  {
   "cell_type": "markdown",
   "metadata": {},
   "source": [
    "## Removing the DC Offset\n",
    "\n",
    "So, if we think we need to remove the DC offset, we can do the following:\n",
    "- Subtract the mean of each signal from each time sample of each channel.\n",
    "- Carry out high-pass filtering to remove the 0Hz\n",
    "- Carry out **detrending**\n",
    "\n",
    "In the following, you can compare the effect of subtracting the mean and high-pass filtering.\n",
    "We can carry out this test on the **RawIn_sel2** data, that consists of 6 channels."
   ]
  },
  {
   "cell_type": "code",
   "execution_count": null,
   "metadata": {
    "pycharm": {
     "name": "#%%\n"
    }
   },
   "outputs": [],
   "source": [
    "## Subtract the mean\n",
    "# We already know the means of the 6 channels, they are stored in the Dmean list and the data_mean array.\n",
    "# The channel-data of the RawIn_temp object is \"dataIn\"\n",
    "chan_demean1 = dataIn[0,] - Dmean[0]\n",
    "chan_demean2 = dataIn[1,] - Dmean[1]\n",
    "chan_demean3 = dataIn[2,] - Dmean[2]\n",
    "\n",
    "%matplotlib inline\n",
    "## Plot the original and demeaned channels\n",
    "ax1 = plt.subplot(231)\n",
    "ax1.margins(0.5)           # Default margin is 0.05, value 0 means fit\n",
    "ax1.plot(T, dataIn[0,])\n",
    "\n",
    "ax2 = plt.subplot(232)\n",
    "ax2.margins(0.5)\n",
    "ax2.plot(T,dataIn[1,])\n",
    "\n",
    "ax3 = plt.subplot(233)\n",
    "ax3.margins(0.5)\n",
    "ax3.plot(T,dataIn[2,])\n",
    "\n",
    "ax4 = plt.subplot(234)\n",
    "ax4.margins(0.5)           # Default margin is 0.05, value 0 means fit\n",
    "ax4.plot(T, chan_demean1)\n",
    "\n",
    "ax5 = plt.subplot(235)\n",
    "ax5.margins(0.5)\n",
    "ax5.plot(T,chan_demean2)\n",
    "\n",
    "ax6 = plt.subplot(236)\n",
    "ax6.margins(0.5)\n",
    "ax6.plot(T,chan_demean3)"
   ]
  },
  {
   "cell_type": "markdown",
   "metadata": {},
   "source": [
    "# FILTERING THE EEG SIGNAL\n",
    "\n",
    "In EEG, we generally filter to remove high frequency artifacts and low frequency drifts.\n",
    "We can filter our time-domain data, our continuous EEG.\n",
    "We can also filter our spatial-domain data using spatial filters.\n",
    "\n",
    "We begin by filtering our time-domain data:\n",
    "- we apply a high-pass filter to remove low frequency drifts\n",
    "- we apply a low-pass filter to remove high frequency artifacts.\n",
    "Here we are going to apply a *high-pass filter* only to try to remove the DC offset."
   ]
  },
  {
   "cell_type": "code",
   "execution_count": null,
   "metadata": {
    "pycharm": {
     "name": "#%%\n"
    }
   },
   "outputs": [],
   "source": [
    "## Filter the EEG Signal.\n",
    "# band-pass filtering in the range 0.1 Hz - 40 Hz\n",
    "RawIntemp_filt = RawIn_temp.copy().filter(0.1, None, fir_design='firwin')"
   ]
  },
  {
   "cell_type": "markdown",
   "metadata": {},
   "source": [
    "## Exercise:\n",
    "Plot the unfiltered, the demeaned and the filtered data of a single electrode to compare the effects subtracting the mean and high-pass filtering.\n",
    "Write your code in the cell below."
   ]
  },
  {
   "cell_type": "code",
   "execution_count": null,
   "metadata": {
    "pycharm": {
     "name": "#%%\n"
    }
   },
   "outputs": [],
   "source": [
    "## Now we can plot the unfiltered data, the demeaned data and the filtered data to compare..."
   ]
  },
  {
   "cell_type": "markdown",
   "metadata": {},
   "source": [
    "## THE SAMPLING FREQUENCY (Hz) AND DOWNSAMPLING\n",
    "\n",
    "Represents the number of times per second that the acquisition system samples the continuous EEG.\n",
    "So, given sampling frequency (or sampling rate) of 1024Hz, this means that the system samples the signal every ______ seconds?\n",
    "\n",
    "The sampling rate has an effect on the analyses that we can carry out on the EEG.\n",
    "For example, if we are interested interested in studying EEG activity around 80Hz, sampling frequency needs to be **at least** twice this frequency of interest - this is the **Nyquist Rule**.\n",
    "\n",
    "However, having a high sampling frequency also implies having a greater volume of data. This can mean longer computing times when we are analysing our data.\n",
    "Generally, in EEG analysis, we are interested in activity in the 0.1Hz to 80Hz frequency band. This means that we do not necessarily need to have a sampling frequency as high as 1024Hz; a sampling frequency of 512Hz or 250Hz will be sufficient to capture the characteristics of the EEG of interest.\n",
    "\n",
    "To reduce the rate at which our EEG is sampled, we can **resample** or **downsample** our data.\n",
    "- How does resampling change the EEG signal?\n",
    "- What other variable is automatically changed when we resample the EEG data?"
   ]
  },
  {
   "cell_type": "code",
   "execution_count": null,
   "metadata": {
    "pycharm": {
     "name": "#%%\n"
    }
   },
   "outputs": [],
   "source": [
    "rsamp = 250                                              # Downsample to half of the original sampling frequency.\n",
    "RawIn_rs = RawIn.copy().resample(sfreq=rsamp)"
   ]
  },
  {
   "cell_type": "markdown",
   "metadata": {},
   "source": [
    "# FILTERING THE EEG SIGNAL\n",
    "\n",
    "In EEG, we generally filter to remove high frequency artifacts and low frequency drifts.\n",
    "We can filter our time-domain data, our continuous EEG.\n",
    "We can also filter our spatial-domain data using spatial filters.\n",
    "\n",
    "We begin by filtering our time-domain data:\n",
    "- we apply a high-pass filter to remove low frequency drifts\n",
    "- we apply a low-pass filter to remove high frequency artifacts.\n",
    "\n",
    "#### Exercise:\n",
    "##### Plot the filtered data to compare with the non-filtered data (**RawIn_rs** object)\n",
    "##### Can you find any noisy electrodes that we may need to exclude from our data?"
   ]
  },
  {
   "cell_type": "code",
   "execution_count": null,
   "metadata": {
    "pycharm": {
     "name": "#%%\n"
    }
   },
   "outputs": [],
   "source": [
    "## Filter the EEG Signal.\n",
    "# band-pass filtering in the range 1 Hz - 40 Hz\n",
    "RawIn_filt = RawIn_rs.copy().filter(0.1, 40., fir_design='firwin')"
   ]
  },
  {
   "cell_type": "code",
   "execution_count": null,
   "metadata": {
    "pycharm": {
     "name": "#%%\n"
    }
   },
   "outputs": [],
   "source": [
    "\n",
    "# Write the code below to plot the filtered data...\n",
    "%matplotlib widget\n",
    "mne.viz.plot_raw(RawIn_filt, scalings='auto')"
   ]
  },
  {
   "cell_type": "markdown",
   "metadata": {},
   "source": [
    "## Plotting the Frequency Spectrum of EEG Signals\n",
    "\n",
    "When trying to detect noisy electrodes it is helpful to look at the frequency spectrum of the electrodes.\n",
    "The presence of low frequency or high frequency activity with a lot of energy can indicate a noisy electrode.\n",
    "Below we will plot the **Power Spectral Density (PSD)** for frequencies between 0.5Hz and 40Hz."
   ]
  },
  {
   "cell_type": "code",
   "execution_count": null,
   "metadata": {
    "pycharm": {
     "name": "#%%\n"
    }
   },
   "outputs": [],
   "source": [
    "%matplotlib widget\n",
    "mne.viz.plot_raw_psd(RawIn_filt, fmin=0.5, fmax=40, dB=True)"
   ]
  },
  {
   "cell_type": "markdown",
   "metadata": {},
   "source": [
    "### Mark the Noisy Channels as \"Bad\"\n",
    "\n",
    "Because activity that corresponds to noise is very often of higher amplitude than the EEG activity that interests us.\n",
    "It is important to detect these souces of noise so that we can exclude them from our analysis.\n",
    "Here we will mark the noisy channels as **bad** so that we can exclude them from our analysis."
   ]
  },
  {
   "cell_type": "code",
   "execution_count": null,
   "metadata": {},
   "outputs": [],
   "source": [
    "'''\n",
    "        We mark a channel as \"bad\" by adding it to the \"bads\" attribute of \"info\".\n",
    "'''\n",
    "ChanBad = ['Fp1']\n",
    "RawIn_filt.info['bads'] = ChanBad\n",
    "\n",
    "# Plot the PSD again but without the channel marked as \"bad\".\n",
    "mne.viz.plot_raw_psd(RawIn_filt, fmin=0.5, fmax=40, dB=True, exclude='bads')"
   ]
  },
  {
   "cell_type": "markdown",
   "metadata": {},
   "source": [
    "## Re-referencing the EEG:\n",
    "\n",
    "The potential measured in microVolts is measured in relation to the potential at another point, called the reference.\n",
    "\n",
    "This means that the activity at each channel is interpreted relative to the potential at a reference.\n",
    "- the reference can be the mean activity of all electrodes.\n",
    "- the average of the two mastoids (generally these reference channels are marked as Ref1, Ref2 or EXG1, EXG2)\n",
    "The current dataset does not have the external (EXG) channels, so we will apply an average reference.\n",
    "\n",
    "However, we cannot include the bad channels or the VEOG when applying the reference.\n",
    "We use the *pick_types()* method to exclude these channels when applying the average reference.\n",
    "\n",
    "<a href=\"https://predictablynoisy.com/mne-python/generated/mne.set_eeg_reference.html\"> Link to MNE page on **mne.set_eeg.reference()**</a>"
   ]
  },
  {
   "cell_type": "code",
   "execution_count": null,
   "metadata": {
    "pycharm": {
     "name": "#%%\n"
    }
   },
   "outputs": [],
   "source": [
    "# raw.set_eeg_reference(ref_channels, copy=True, verbose=None)\n",
    "\n",
    "RawIn_ref = RawIn_filt.copy().pick_types(eeg=True, exclude= ['bads','eog']).set_eeg_reference()"
   ]
  },
  {
   "cell_type": "markdown",
   "metadata": {},
   "source": [
    "## Visual Inspection and Annotation of Data\n",
    "\n",
    "Visually inspect the raw data, **RawIn_ref** by calling **RawIn_ref.plot()\n",
    "\n",
    "Bad channels are color coded gray. By clicking the lines or channel names on the left, you can mark or unmark a bad channel interactively. You can use +/- keys to adjust the scale (also = works for magnifying the data). Note that the initial scaling factors can be set with parameter scalings. If you don’t know the scaling factor for channels, you can automatically set them by passing scalings=’auto’. With pageup/pagedown and home/end keys you can adjust the amount of data viewed at once.\n",
    "\n",
    "You can enter annotation mode by pressing a key. In annotation mode you can mark segments of data (and modify existing annotations) with the left mouse button. You can use the description of any existing annotation or create a new description by typing when the annotation dialog is active. Notice that the description starting with the keyword 'bad' means that the segment will be discarded when epoching the data. Existing annotations can be deleted with the right mouse button. Annotation mode is exited by pressing a again or closing the annotation window.\n"
   ]
  },
  {
   "cell_type": "code",
   "execution_count": null,
   "metadata": {
    "pycharm": {
     "name": "#%%\n"
    }
   },
   "outputs": [],
   "source": [
    "### HERE WE WILL MANUALLY ANNOTATE THE CONTINUOUS DATA TO MARK EYE-BLINKS OR BIG ELECTRODE JUMPS\n",
    "fig = RawIn_ref.plot(block=True)              # Open the interactive raw.plot window. This should open a separate window.\n",
    "fig.canvas.key_press_event('a')"
   ]
  },
  {
   "cell_type": "markdown",
   "metadata": {},
   "source": [
    "## Automatic Detection of Eye-Blinks\n"
   ]
  },
  {
   "cell_type": "code",
   "execution_count": null,
   "metadata": {
    "pycharm": {
     "name": "#%%\n"
    }
   },
   "outputs": [],
   "source": [
    "eogev_elec = 'AF8'                                #Put the label of your selected electrode here...try different electrodes.\n",
    "eog_epochs = mne.preprocessing.create_eog_epochs(RawIn_ref, ch_name=eogev_elec, reject_by_annotation=False)\n",
    "eog_epochs.apply_baseline(baseline=(None, -0.2))  # We go from the start of the interval to the -200ms before 0ms\n",
    "eog_epochs.average().plot_joint()\n",
    "eog_epochs.average().plot_topomap()"
   ]
  },
  {
   "cell_type": "markdown",
   "metadata": {},
   "source": [
    "## Automatic Detection of ECG (Cardiac activity)"
   ]
  },
  {
   "cell_type": "code",
   "execution_count": null,
   "metadata": {
    "pycharm": {
     "name": "#%%\n"
    }
   },
   "outputs": [],
   "source": [
    "ecg_elec = '';\n",
    "ecg_epochs = mne.preprocessing.create_ecg_epochs(RawIn_ref, ch_name=ecg_elec, reject_by_annotation=False)\n",
    "ecg_epochs.apply_baseline(baseline=(, ))              # Can you suggest a baseline interval for ECG??\n",
    "ecg_epochs.average().plot_joint()\n",
    "ecg_epochs.average().plot_topomap()"
   ]
  },
  {
   "cell_type": "markdown",
   "metadata": {},
   "source": []
  },
  {
   "cell_type": "code",
   "execution_count": null,
   "metadata": {
    "pycharm": {
     "name": "#%%\n"
    }
   },
   "outputs": [],
   "source": [
    "from matplotlib import cm\n",
    "### In continuous data, it is more interesting to look at frequency band activity.\n",
    "spectra, freqs = mne.time_frequency.psd_welch(RawIn_filt, fmin=1, fmax=40, tmin=0, tmax=250,\n",
    "                                              n_overlap=125, n_fft=250)\n",
    "print(freqs)       # Print the frequencies to screen.\n",
    "\n",
    "# Plot the spectra as a function of frequency.\n",
    "plt.plot(freqs, spectra.T)\n",
    "plt.ylabel(r'PSD ($\\mu$V^2)')\n",
    "\n",
    "## To start with, lets plot the topography of alpha activity (10Hz) across our continuous data.\n",
    "layout = mne.find_layout(RawIn_filt.info, ch_type='eeg', exclude='bads')\n",
    "mne.viz.plot_topomap(spectra[:, 9],layout.pos , cmap=cm.viridis, contours=0)"
   ]
  },
  {
   "cell_type": "markdown",
   "metadata": {},
   "source": [
    "## Add Event Data to the Dataset"
   ]
  },
  {
   "cell_type": "code",
   "execution_count": 74,
   "metadata": {
    "pycharm": {
     "name": "#%%\n"
    }
   },
   "outputs": [
    {
     "name": "stdout",
     "output_type": "stream",
     "text": [
      "Used Annotations descriptions: ['Novel Tone', 'Standard Tone', 'Target Tone']\n",
      "{'Novel Tone': 1, 'Standard Tone': 2, 'Target Tone': 3}\n"
     ]
    },
    {
     "name": "stderr",
     "output_type": "stream",
     "text": [
      "/var/folders/60/tv1lj_b10zq7ypz5s1kvq4_cr3bc6f/T/ipykernel_46119/2659928595.py:4: RuntimeWarning: Omitted 122 annotation(s) that were outside data range.\n",
      "  RawIn_filt.set_annotations(annotations)\n"
     ]
    }
   ],
   "source": [
    "event_data = pd.read_csv(\n",
    "    './AuditoryOddball_TBI/sub-002/session1/sub-002_ses-01_task-ThreeStimAuditoryOddball_events.csv', sep=';', header=None)\n",
    "annotations = mne.Annotations(event_data[0], event_data[1], event_data[2])\n",
    "RawIn_filt.set_annotations(annotations)\n",
    "events, events_id = mne.events_from_annotations(RawIn_filt)\n",
    "print(events_id)\n"
   ]
  },
  {
   "cell_type": "code",
   "execution_count": null,
   "metadata": {
    "pycharm": {
     "name": "#%%\n"
    }
   },
   "outputs": [],
   "source": [
    "\n",
    "## Segmenting the Continuous Data\n",
    "\n",
    "tmin, tmax = [ -0.1,1 ]\n",
    "reject_criteria = dict(eeg=40e-6)   # Criterion for epoch rejection\n",
    "event_dict = {'Novel Tone': 1, 'Standard Tone': 2, 'Target Tone': 3}\n",
    "# Call of function to segment the data into epochs.\n",
    "epoch_data = mne.Epochs(RawIn_filt, events, event_id=event_dict, tmin=tmin, tmax=tmax, reject=None, reject_by_annotation=False,\n",
    "                        baseline=(tmin, 0), preload=True,\n",
    "                        detrend=None, verbose=True)\n",
    "\n",
    "fig = mne.viz.plot_events(events, event_id=event_dict, sfreq=RawIn_filt.info['sfreq'],\n",
    "                          first_samp=RawIn_filt.first_samp)"
   ]
  },
  {
   "cell_type": "code",
   "execution_count": null,
   "metadata": {
    "pycharm": {
     "name": "#%%\n"
    },
    "scrolled": true
   },
   "outputs": [],
   "source": [
    "%matplotlib widget\n",
    "epoch_data['Novel Tone'].plot(events=events, event_id=event_dict, butterfly=True)"
   ]
  },
  {
   "cell_type": "code",
   "execution_count": null,
   "outputs": [],
   "source": [
    "epoch_data['Novel Tone'].plot_psd(picks='eeg')"
   ],
   "metadata": {
    "collapsed": false,
    "pycharm": {
     "name": "#%%\n"
    }
   }
  },
  {
   "cell_type": "code",
   "execution_count": null,
   "outputs": [],
   "source": [
    "epoch_data['Novel Tone'].plot_image(picks='eeg', combine='mean')"
   ],
   "metadata": {
    "collapsed": false,
    "pycharm": {
     "name": "#%%\n"
    }
   }
  },
  {
   "cell_type": "code",
   "execution_count": null,
   "outputs": [],
   "source": [
    "epochs_novel = epoch_data['Novel Tone']\n",
    "epochs_standard = epoch_data['Standard Tone']\n",
    "\n",
    "# Now we will average over the novel and standard trials. This will give us our evoked activity.\n",
    "evoked_novel = epochs_novel.average()\n",
    "evoked_standard = epochs_standard.average()\n",
    "\n",
    "mne.viz.plot_compare_evokeds(dict(novel=evoked_novel, standard=evoked_standard),\n",
    "                             legend='upper left', show_sensors='upper right')"
   ],
   "metadata": {
    "collapsed": false,
    "pycharm": {
     "name": "#%%\n"
    }
   }
  }
 ],
 "metadata": {
  "kernelspec": {
   "display_name": "Python 3 (ipykernel)",
   "language": "python",
   "name": "python3"
  },
  "language_info": {
   "codemirror_mode": {
    "name": "ipython",
    "version": 3
   },
   "file_extension": ".py",
   "mimetype": "text/x-python",
   "name": "python",
   "nbconvert_exporter": "python",
   "pygments_lexer": "ipython3",
   "version": "3.9.1"
  }
 },
 "nbformat": 4,
 "nbformat_minor": 1
}